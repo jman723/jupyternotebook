{
 "cells": [
  {
   "cell_type": "markdown",
   "id": "86c956be-f4bd-4180-a844-19cf3706527a",
   "metadata": {},
   "source": [
    "# Data Science Tools and Ecosystem"
   ]
  },
  {
   "cell_type": "markdown",
   "id": "468444f5-814c-4089-a428-970e0ec09395",
   "metadata": {},
   "source": [
    "In this notebook, Data Science Tools and Ecosystem are summarized."
   ]
  },
  {
   "cell_type": "markdown",
   "id": "ce3a9bd9-30b7-44bc-ba30-44e0b75f3520",
   "metadata": {},
   "source": [
    "Some of the popular languages that Data Scientists use are:\n",
    "1. Python\n",
    "1. R\n",
    "1. SQL\n",
    "1. C++\n",
    "1. Javascript\n",
    "1. Scala\n",
    "1. Ruby"
   ]
  },
  {
   "cell_type": "markdown",
   "id": "db0547b0-8485-49fb-97bc-a5dda3f559cb",
   "metadata": {},
   "source": [
    "Some of the commonly used libraries used by Data Scientists include:\n",
    "1. TensorFlow\n",
    "1. Scikit-learn\n",
    "1. Pandas"
   ]
  },
  {
   "cell_type": "markdown",
   "id": "3124fbee-843b-4dda-b2b4-172e0bd6f6f9",
   "metadata": {},
   "source": [
    "|Data Science Tools|\n",
    "|--|\n",
    "|Apache|\n",
    "|RStudio|\n",
    "|Jupyter Notebook|"
   ]
  },
  {
   "cell_type": "markdown",
   "id": "da8205cb-f139-4c93-8776-1204c9845171",
   "metadata": {},
   "source": [
    "### Below are a few examples of evaluating arithmetic expressions in Python"
   ]
  },
  {
   "cell_type": "markdown",
   "id": "6d6494c9-64dd-4b0d-94f8-5ea79824117e",
   "metadata": {},
   "source": [
    "#### This is the code for the product of two numbers"
   ]
  },
  {
   "cell_type": "code",
   "execution_count": 12,
   "id": "2a78bd70-07aa-48e1-9cf4-08abdaa5c9eb",
   "metadata": {},
   "outputs": [
    {
     "data": {
      "text/plain": [
       "17"
      ]
     },
     "execution_count": 12,
     "metadata": {},
     "output_type": "execute_result"
    }
   ],
   "source": [
    "#  This a simple arithmetic expression to mutiply then add integers\n",
    "(3*4)+5"
   ]
  },
  {
   "cell_type": "code",
   "execution_count": 18,
   "id": "f5dedd19-dd02-43aa-800e-cd4b69f0c8ef",
   "metadata": {},
   "outputs": [
    {
     "name": "stdout",
     "output_type": "stream",
     "text": [
      "3.33 hours\n"
     ]
    }
   ],
   "source": [
    "#This will convert 200 minutes to hours by dividing by 60\n",
    "minutes = 200\n",
    "calc = (minutes/60)\n",
    "print(f'{calc:.2f} hours')"
   ]
  },
  {
   "cell_type": "markdown",
   "id": "f988f7b0-158d-4a89-9f23-766117fb629f",
   "metadata": {},
   "source": [
    "- List popular languages for Data Science\n",
    "    - Python\n",
    "    - R\n",
    "    - SQL\n",
    "    - C++\n",
    "    - JavaScript"
   ]
  },
  {
   "cell_type": "markdown",
   "id": "431b59e2-503e-4e77-b3e9-34a03899e694",
   "metadata": {},
   "source": [
    "## Justin Tineo"
   ]
  }
 ],
 "metadata": {
  "kernelspec": {
   "display_name": "Python",
   "language": "python",
   "name": "conda-env-python-py"
  },
  "language_info": {
   "codemirror_mode": {
    "name": "ipython",
    "version": 3
   },
   "file_extension": ".py",
   "mimetype": "text/x-python",
   "name": "python",
   "nbconvert_exporter": "python",
   "pygments_lexer": "ipython3",
   "version": "3.7.12"
  }
 },
 "nbformat": 4,
 "nbformat_minor": 5
}
